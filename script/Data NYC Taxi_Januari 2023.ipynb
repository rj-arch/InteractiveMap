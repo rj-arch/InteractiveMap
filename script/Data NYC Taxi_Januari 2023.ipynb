{
 "cells": [
  {
   "cell_type": "code",
   "execution_count": 1,
   "id": "e9e2bb5c-0c69-4bb0-bf81-d5a53da410af",
   "metadata": {},
   "outputs": [],
   "source": [
    "#Menyiapkan data excel dari data parquet \n",
    "#Membaca data, cek konsistensi data dari NYC_taxi Januari 2023"
   ]
  },
  {
   "cell_type": "code",
   "execution_count": 3,
   "id": "bde6db8d-1ac3-407a-8336-0f8ec8b2c1cd",
   "metadata": {},
   "outputs": [
    {
     "name": "stdout",
     "output_type": "stream",
     "text": [
      "   VendorID tpep_pickup_datetime tpep_dropoff_datetime  passenger_count  \\\n",
      "0         2  2023-01-01 00:32:10   2023-01-01 00:40:36              1.0   \n",
      "1         2  2023-01-01 00:55:08   2023-01-01 01:01:27              1.0   \n",
      "2         2  2023-01-01 00:25:04   2023-01-01 00:37:49              1.0   \n",
      "3         1  2023-01-01 00:03:48   2023-01-01 00:13:25              0.0   \n",
      "4         2  2023-01-01 00:10:29   2023-01-01 00:21:19              1.0   \n",
      "\n",
      "   trip_distance  RatecodeID store_and_fwd_flag  PULocationID  DOLocationID  \\\n",
      "0           0.97         1.0                  N           161           141   \n",
      "1           1.10         1.0                  N            43           237   \n",
      "2           2.51         1.0                  N            48           238   \n",
      "3           1.90         1.0                  N           138             7   \n",
      "4           1.43         1.0                  N           107            79   \n",
      "\n",
      "   payment_type  fare_amount  extra  mta_tax  tip_amount  tolls_amount  \\\n",
      "0             2          9.3   1.00      0.5        0.00           0.0   \n",
      "1             1          7.9   1.00      0.5        4.00           0.0   \n",
      "2             1         14.9   1.00      0.5       15.00           0.0   \n",
      "3             1         12.1   7.25      0.5        0.00           0.0   \n",
      "4             1         11.4   1.00      0.5        3.28           0.0   \n",
      "\n",
      "   improvement_surcharge  total_amount  congestion_surcharge  airport_fee  \n",
      "0                    1.0         14.30                   2.5         0.00  \n",
      "1                    1.0         16.90                   2.5         0.00  \n",
      "2                    1.0         34.90                   2.5         0.00  \n",
      "3                    1.0         20.85                   0.0         1.25  \n",
      "4                    1.0         19.68                   2.5         0.00  \n"
     ]
    }
   ],
   "source": [
    "import pandas as pd\n",
    "\n",
    "# Ganti 'yellow_tripdata_2024-01.parquet' dengan nama file Anda\n",
    "df = pd.read_parquet('Taxi_data_2023-01.parquet')\n",
    "\n",
    "# Tampilkan beberapa baris pertama\n",
    "print(df.head())"
   ]
  },
  {
   "cell_type": "code",
   "execution_count": 5,
   "id": "2a48a7b1-6f8e-400a-b4ac-27402b0f38bc",
   "metadata": {},
   "outputs": [
    {
     "name": "stdout",
     "output_type": "stream",
     "text": [
      "Jumlah baris: 3066766\n",
      "Jumlah kolom: 19\n"
     ]
    }
   ],
   "source": [
    "#Perlu memahami jumlah baris dan kolom dari data parquet\n",
    "\n",
    "# Baca file parquet\n",
    "df = pd.read_parquet('Taxi_data_2023-01.parquet')\n",
    "\n",
    "# Menampilkan jumlah baris dan kolom\n",
    "print(\"Jumlah baris:\", df.shape[0])\n",
    "print(\"Jumlah kolom:\", df.shape[1])"
   ]
  },
  {
   "cell_type": "code",
   "execution_count": 6,
   "id": "4075c489-0e00-404d-a9ed-ab00d55f0c53",
   "metadata": {},
   "outputs": [],
   "source": [
    "#konversi data parquet ke csv\n",
    "\n",
    "import pandas as pd\n",
    "\n",
    "# Membaca file Parquet\n",
    "df = pd.read_parquet('Taxi_data_2023-01.parquet')\n",
    "\n",
    "# Menyimpan ke file CSV\n",
    "df.to_csv('Taxi_data_2023-01.csv', index=False)"
   ]
  },
  {
   "cell_type": "code",
   "execution_count": 8,
   "id": "a3bb9921-baaa-4dd9-9ded-fc73dd2e8b3e",
   "metadata": {},
   "outputs": [
    {
     "name": "stdout",
     "output_type": "stream",
     "text": [
      "Jumlah baris: 3066766\n",
      "Jumlah kolom: 7\n"
     ]
    }
   ],
   "source": [
    "#Mengekstrak data kolom yang diperlukan dan konversi ke CSV\n",
    "\n",
    "import pandas as pd\n",
    "\n",
    "# Path ke file Parquet Anda\n",
    "file_path = 'Taxi_data_2023-01.parquet'\n",
    "\n",
    "# Daftar kolom yang akan diambil\n",
    "kolom_yang_dibutuhkan = [\n",
    "    'tpep_pickup_datetime',\n",
    "    'tpep_dropoff_datetime',\n",
    "    'passenger_count',\n",
    "    'trip_distance',\n",
    "    'PULocationID',\n",
    "    'DOLocationID',\n",
    "    'total_amount'\n",
    "]\n",
    "\n",
    "# Membaca file Parquet dan memilih kolom yang diinginkan\n",
    "df = pd.read_parquet(file_path, columns=kolom_yang_dibutuhkan)\n",
    "\n",
    "# Mengonversi data ke CSV\n",
    "df.to_csv('DataPenting_Taxi_data_2023-01.csv', index=False)\n",
    "\n",
    "# Menampilkan jumlah baris dan kolom\n",
    "print(f\"Jumlah baris: {df.shape[0]}\")\n",
    "print(f\"Jumlah kolom: {df.shape[1]}\")"
   ]
  },
  {
   "cell_type": "code",
   "execution_count": 9,
   "id": "a8569105-cd11-4856-bc41-d2867c681371",
   "metadata": {},
   "outputs": [],
   "source": [
    "import pandas as pd\n",
    "\n",
    "# Baca file Parquet\n",
    "df = pd.read_parquet('Taxi_data_2023-01.parquet', columns=['PULocationID', 'DOLocationID'])\n",
    "\n",
    "# Simpan sebagai CSV\n",
    "df.to_csv('pickup_dropoff.csv', index=False)"
   ]
  },
  {
   "cell_type": "code",
   "execution_count": 10,
   "id": "5df8bc89-340e-46d0-8899-f76fdb32d5a9",
   "metadata": {},
   "outputs": [
    {
     "name": "stdout",
     "output_type": "stream",
     "text": [
      "Hasil frekuensi berhasil disimpan ke 'pickup_dropoff_frekuensi.csv'\n"
     ]
    }
   ],
   "source": [
    "#hitung frekuensi Pickup dan Drop_off\n",
    "\n",
    "import pandas as pd\n",
    "\n",
    "# Baca file Parquet\n",
    "df = pd.read_parquet('Taxi_data_2023-01.parquet', columns=['PULocationID', 'DOLocationID'])\n",
    "\n",
    "# Hitung jumlah perjalanan berdasarkan kombinasi PULocationID dan DOLocationID\n",
    "frekuensi = df.groupby(['PULocationID', 'DOLocationID']).size().reset_index(name='jumlah_perjalanan')\n",
    "\n",
    "# Simpan hasil ke CSV\n",
    "frekuensi.to_csv('Pickup_Dropoff_frekuensi.csv', index=False)\n",
    "\n",
    "print(\"Hasil frekuensi berhasil disimpan ke 'pickup_dropoff_frekuensi.csv'\")"
   ]
  },
  {
   "cell_type": "code",
   "execution_count": 11,
   "id": "1a77a733-e4f2-407d-bcb1-adb07a8268e6",
   "metadata": {},
   "outputs": [
    {
     "name": "stdout",
     "output_type": "stream",
     "text": [
      "Hasil frekuensi dan total penumpang berhasil disimpan ke 'pickup_dropoff_frekuensi_dan_penumpang.csv'\n"
     ]
    }
   ],
   "source": [
    "#Hitung Frekuensi PU ke DO dan jumlah penumpangnya \n",
    "\n",
    "import pandas as pd\n",
    "\n",
    "# Baca file Parquet\n",
    "df = pd.read_parquet('Taxi_data_2023-01.parquet', columns=['PULocationID', 'DOLocationID', 'passenger_count'])\n",
    "\n",
    "# Hitung jumlah perjalanan dan total penumpang berdasarkan kombinasi PULocationID dan DOLocationID\n",
    "frekuensi = df.groupby(['PULocationID', 'DOLocationID']).agg(\n",
    "    jumlah_perjalanan=('PULocationID', 'size'),  # Hitung jumlah perjalanan\n",
    "    total_penumpang=('passenger_count', 'sum')  # Hitung total penumpang\n",
    ").reset_index()\n",
    "\n",
    "# Simpan hasil ke CSV\n",
    "frekuensi.to_csv('Frekuensi_dan_Jumlah_Penumpang.csv', index=False)\n",
    "\n",
    "print(\"Hasil frekuensi dan total penumpang berhasil disimpan ke 'pickup_dropoff_frekuensi_dan_penumpang.csv'\")"
   ]
  },
  {
   "cell_type": "code",
   "execution_count": null,
   "id": "b47a000f-5005-4bd0-a293-507d14924d8e",
   "metadata": {},
   "outputs": [],
   "source": []
  }
 ],
 "metadata": {
  "kernelspec": {
   "display_name": "Python 3 (ipykernel)",
   "language": "python",
   "name": "python3"
  },
  "language_info": {
   "codemirror_mode": {
    "name": "ipython",
    "version": 3
   },
   "file_extension": ".py",
   "mimetype": "text/x-python",
   "name": "python",
   "nbconvert_exporter": "python",
   "pygments_lexer": "ipython3",
   "version": "3.12.8"
  }
 },
 "nbformat": 4,
 "nbformat_minor": 5
}
